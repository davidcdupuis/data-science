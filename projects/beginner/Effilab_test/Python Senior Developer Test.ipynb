{
 "cells": [
  {
   "cell_type": "markdown",
   "metadata": {},
   "source": [
    "## Technical test for a Python Senior Developer\n",
    "\n",
    "important note : please don't work directly here, download and work locally. Several candidates are using the same notebook. Thank you.\n",
    "\n",
    "### Algorithmics\n",
    "\n",
    "Please code the algorithm that solves the following problem. It should be tested (unit and / or functional tests) and clean (easy to understand and elegant).\n",
    "\n",
    "**The game of life**\n",
    "\n",
    "The universe of the Game of Life is an infinite, two-dimensional orthogonal grid of square cells, each of which is in one of two possible states, alive or dead, (or populated and unpopulated, respectively). Every cell interacts with its eight neighbours, which are the cells that are horizontally, vertically, or diagonally adjacent. At each step in time, the following transitions occur:\n",
    "\n",
    "* Any live cell with fewer than two live neighbors dies, as if by under population.\n",
    "* Any live cell with two or three live neighbors lives on to the next generation.\n",
    "* Any live cell with more than three live neighbors dies, as if by overpopulation.\n",
    "* Any dead cell with exactly three live neighbors becomes a live cell, as if by reproduction.\n",
    "\n",
    "The initial pattern constitutes the seed of the system. The first generation is created by applying the above rules simultaneously to every cell in the seed; births and deaths occur simultaneously, and the discrete moment at which this happens is sometimes called a tick. Each generation is a pure function of the preceding one. The rules continue to be applied repeatedly to create further generations."
   ]
  },
  {
   "cell_type": "code",
   "execution_count": 1,
   "metadata": {
    "collapsed": false
   },
   "outputs": [],
   "source": [
    "from __future__ import print_function"
   ]
  },
  {
   "cell_type": "code",
   "execution_count": 27,
   "metadata": {
    "collapsed": false
   },
   "outputs": [],
   "source": [
    "# prints a given grid\n",
    "def printGrid(grid):\n",
    "    for i in range(h):\n",
    "        for j in range(w):\n",
    "            #if (grid[i][j] == 1):\n",
    "            #    print(\"[{}]\".format(\"X\"), end=\"\")\n",
    "            #else:\n",
    "            #    print(\"[{}]\".format(\" \"), end=\"\")\n",
    "            if(grid[i][j] != 0):\n",
    "                print(\"[{}]\".format(grid[i][j]), end=\"\")\n",
    "            else:\n",
    "                print(\"[{}]\".format(\" \"), end=\"\")\n",
    "        print(\"\")\n",
    "        \n",
    "# function to compute number of live neighbors of a cell in a grid\n",
    "def liveNeighbors(grid, cell):\n",
    "    n = 0\n",
    "    if(cell[0] - 1 >= 0):\n",
    "        if (grid[cell[0] - 1][cell[1] - 1] == 1):\n",
    "            n += 1\n",
    "        if (grid[cell[0] - 1][cell[1]] == 1):\n",
    "            n += 1\n",
    "        if (grid[cell[0]][cell[1] - 1] == 1):\n",
    "            n += 1\n",
    "    if(cell[1] + 1 < len(grid[0]) ):\n",
    "        if (grid[cell[0] - 1][cell[1] + 1] == 1):\n",
    "            n += 1\n",
    "        if (grid[cell[0]][cell[1] + 1] == 1):\n",
    "            n += 1\n",
    "        if (grid[cell[0] + 1][cell[1] - 1] == 1):\n",
    "            n += 1\n",
    "    if(cell[0] + 1 < len(grid)):\n",
    "        if (grid[cell[0] + 1][cell[1] - 1] == 1):\n",
    "            n += 1\n",
    "        if (grid[cell[0] + 1][cell[1]] == 1):\n",
    "            n += 1\n",
    "    return n\n",
    "\n",
    "# for a given grid, computes the next tick in life\n",
    "def nextTick(grid):\n",
    "    # rules are applied simultaneously to every cell\n",
    "    newLiveCells = []\n",
    "    newDeadCells = []\n",
    "    for i in range(h):\n",
    "        for j in range(w):\n",
    "            if(grid[i][j] == 1):\n",
    "                n = liveNeighbors(grid, (i,j))\n",
    "                # any live cell with fewer than two  or more than tree live neighbors dies\n",
    "                if(n < 2 or n > 3):\n",
    "                    newDeadCells.append((i,j))\n",
    "                    # print(\"newDeadCells: {}\".format((i,j)))\n",
    "                # else any live cell with two or three live neighbors lives on\n",
    "            else:\n",
    "                # any dead cell with exactly three live neighbors becomes a live cell\n",
    "                n = liveNeighbors(grid, (i,j))\n",
    "                if (n == 3):\n",
    "                    newLiveCells.append((i,j))\n",
    "                    # print(\"newLiveCells: {}\".format((i,j)))\n",
    "    \n",
    "    for cell in newDeadCells:\n",
    "        grid[cell[0]][cell[1]] = liveNeighbors(grid, (cell[0],cell[1]))\n",
    "        \n",
    "    for cell in newLiveCells:\n",
    "        grid[cell[0]][cell[1]] = liveNeighbors(grid, (cell[0],cell[1]))\n",
    "    \n",
    "    "
   ]
  },
  {
   "cell_type": "code",
   "execution_count": 28,
   "metadata": {
    "collapsed": true
   },
   "outputs": [],
   "source": [
    "w, h = 10, 10;\n",
    "grid = [[0 for x in range(w+1)] for y in range(h+1)] "
   ]
  },
  {
   "cell_type": "code",
   "execution_count": 29,
   "metadata": {
    "collapsed": false
   },
   "outputs": [
    {
     "name": "stdout",
     "output_type": "stream",
     "text": [
      "[ ][ ][ ][ ][ ][ ][ ][ ][ ][ ]\n",
      "[ ][ ][ ][ ][ ][ ][ ][ ][ ][ ]\n",
      "[ ][ ][ ][ ][ ][ ][ ][ ][ ][ ]\n",
      "[ ][ ][ ][ ][ ][ ][ ][ ][ ][ ]\n",
      "[ ][ ][ ][ ][1][1][ ][ ][ ][ ]\n",
      "[ ][ ][ ][ ][1][1][1][ ][ ][ ]\n",
      "[ ][ ][ ][ ][ ][ ][ ][ ][ ][ ]\n",
      "[ ][ ][ ][ ][ ][ ][ ][ ][ ][ ]\n",
      "[ ][ ][ ][ ][ ][ ][ ][ ][ ][ ]\n",
      "[ ][ ][ ][ ][ ][ ][ ][ ][ ][ ]\n"
     ]
    }
   ],
   "source": [
    "grid[4][4] = 1\n",
    "grid[4][5] = 1\n",
    "grid[5][4] = 1\n",
    "grid[5][5] = 1\n",
    "grid[5][6] = 1\n",
    "printGrid(grid)"
   ]
  },
  {
   "cell_type": "code",
   "execution_count": 30,
   "metadata": {
    "collapsed": false
   },
   "outputs": [
    {
     "name": "stdout",
     "output_type": "stream",
     "text": [
      "[ ][ ][ ][ ][ ][ ][ ][ ][ ][ ]\n",
      "[ ][ ][ ][ ][ ][ ][ ][ ][ ][ ]\n",
      "[ ][ ][ ][ ][ ][ ][ ][ ][ ][ ]\n",
      "[ ][ ][ ][ ][ ][2][ ][ ][ ][ ]\n",
      "[ ][ ][ ][ ][1][4][ ][ ][ ][ ]\n",
      "[ ][ ][ ][ ][1][3][1][ ][ ][ ]\n",
      "[ ][ ][ ][ ][ ][2][ ][ ][ ][ ]\n",
      "[ ][ ][ ][ ][ ][ ][ ][ ][ ][ ]\n",
      "[ ][ ][ ][ ][ ][ ][ ][ ][ ][ ]\n",
      "[ ][ ][ ][ ][ ][ ][ ][ ][ ][ ]\n"
     ]
    }
   ],
   "source": [
    "nextTick(grid)\n",
    "printGrid(grid)"
   ]
  },
  {
   "cell_type": "code",
   "execution_count": null,
   "metadata": {
    "collapsed": true
   },
   "outputs": [],
   "source": []
  }
 ],
 "metadata": {
  "kernelspec": {
   "display_name": "Python 2",
   "language": "python",
   "name": "python2"
  },
  "language_info": {
   "codemirror_mode": {
    "name": "ipython",
    "version": 2
   },
   "file_extension": ".py",
   "mimetype": "text/x-python",
   "name": "python",
   "nbconvert_exporter": "python",
   "pygments_lexer": "ipython2",
   "version": "2.7.13"
  }
 },
 "nbformat": 4,
 "nbformat_minor": 2
}
