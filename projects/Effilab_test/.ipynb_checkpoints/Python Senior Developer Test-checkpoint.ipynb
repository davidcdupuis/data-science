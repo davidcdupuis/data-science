{
 "cells": [
  {
   "cell_type": "markdown",
   "metadata": {},
   "source": [
    "## Technical test for a Python Senior Developer\n",
    "\n",
    "important note : please don't work directly here, download and work locally. Several candidates are using the same notebook. Thank you.\n",
    "\n",
    "### Algorithmics\n",
    "\n",
    "Please code the algorithm that solves the following problem. It should be tested (unit and / or functional tests) and clean (easy to understand and elegant).\n",
    "\n",
    "**The game of life**\n",
    "\n",
    "The universe of the Game of Life is an infinite, two-dimensional orthogonal grid of square cells, each of which is in one of two possible states, alive or dead, (or populated and unpopulated, respectively). Every cell interacts with its eight neighbours, which are the cells that are horizontally, vertically, or diagonally adjacent. At each step in time, the following transitions occur:\n",
    "\n",
    "* Any live cell with fewer than two live neighbors dies, as if by under population.\n",
    "* Any live cell with two or three live neighbors lives on to the next generation.\n",
    "* Any live cell with more than three live neighbors dies, as if by overpopulation.\n",
    "* Any dead cell with exactly three live neighbors becomes a live cell, as if by reproduction.\n",
    "\n",
    "The initial pattern constitutes the seed of the system. The first generation is created by applying the above rules simultaneously to every cell in the seed; births and deaths occur simultaneously, and the discrete moment at which this happens is sometimes called a tick. Each generation is a pure function of the preceding one. The rules continue to be applied repeatedly to create further generations."
   ]
  },
  {
   "cell_type": "code",
   "execution_count": 14,
   "metadata": {
    "collapsed": false
   },
   "outputs": [],
   "source": [
    "from __future__ import print_function"
   ]
  },
  {
   "cell_type": "code",
   "execution_count": 39,
   "metadata": {
    "collapsed": false
   },
   "outputs": [],
   "source": [
    "# prints a given grid\n",
    "def printGrid(grid):\n",
    "    for i in range(h):\n",
    "        for j in range(w):\n",
    "            if (grid[i][j] == 1):\n",
    "                print(\"[{}]\".format(\"X\"), end=\"\")\n",
    "            else:\n",
    "                print(\"[{}]\".format(\" \"), end=\"\")\n",
    "        print(\"\")\n",
    "        \n",
    "# function to compute number of live neighbors of a cell in a grid\n",
    "def liveNeighbors(grid, cell):\n",
    "    n = 0\n",
    "    if(cell[0] - 1 >= 0):\n",
    "        if (grid[cell[0] - 1][cell[1] - 1] == 1 and cell[1] - 1 > 0):\n",
    "            n += 1\n",
    "        if (grid[cell[0] - 1][cell[1]] == 1):\n",
    "            n += 1\n",
    "        if (grid[cell[0] - 1][cell[1] + 1] == 1 and cell[1] + 1 < len(grid[0])):\n",
    "            n += 1\n",
    "    if (cell[1] - 1 > 0 and grid[cell[0]][cell[1] - 1] == 1):\n",
    "        n += 1\n",
    "    if (cell[1] + 1 < len(grid[0]) and grid[cell[0]][cell[1] + 1] == 1):\n",
    "        n += 1\n",
    "    if (cell[0] + 1 < len(grid)):\n",
    "        if (grid[cell[0] + 1][cell[1] - 1] == 1 and cell[1] - 1 > 0):\n",
    "            n += 1\n",
    "        if (grid[cell[0] + 1][cell[1]] == 1):\n",
    "            n += 1\n",
    "        if (grid[cell[0] + 1][cell[1] - 1] == 1 and cell[1] + 1 < len(grid[0])):\n",
    "            n += 1\n",
    "    return n\n",
    "\n",
    "# for a given grid, computes the next tick in life\n",
    "def nextTick(grid):\n",
    "    # rules are applied simultaneously to every cell\n",
    "    newLiveCells = []\n",
    "    newDeadCells = []\n",
    "    for i in range(h):\n",
    "        for j in range(w):\n",
    "            if(grid[i][j] == 1):\n",
    "                n = liveNeighbors(grid, (i,j))\n",
    "                # any live cell with fewer than two  or more than tree live neighbors dies\n",
    "                if(n < 2 or n > 3):\n",
    "                    newDeadCells.append((i,j))\n",
    "                    print(\"newDeadCells: {}\".format((i,j)))\n",
    "                # else any live cell with two or three live neighbors lives on\n",
    "            else:\n",
    "                # any dead cell with exactly three live neighbors becomes a live cell\n",
    "                n = liveNeighbors(grid, (i,j))\n",
    "                if (n == 3):\n",
    "                    newLiveCells.append((i,j))\n",
    "                    print(\"newLiveCells: {}\".format((i,j)))\n",
    "    \n",
    "    for cell in newDeadCells:\n",
    "        grid[cell[0]][cell[1]] = 0\n",
    "        \n",
    "    for cell in newLiveCells:\n",
    "        grid[cell[0][cell[1]]] = 0\n",
    "    \n",
    "    "
   ]
  },
  {
   "cell_type": "code",
   "execution_count": 26,
   "metadata": {
    "collapsed": true
   },
   "outputs": [],
   "source": [
    "w, h = 10, 10;\n",
    "grid = [[0 for x in range(w)] for y in range(h)] "
   ]
  },
  {
   "cell_type": "code",
   "execution_count": 27,
   "metadata": {
    "collapsed": false
   },
   "outputs": [
    {
     "name": "stdout",
     "output_type": "stream",
     "text": [
      "[ ][ ][ ][ ][ ][ ][ ][ ][ ][ ]\n",
      "[ ][ ][ ][ ][ ][ ][ ][ ][ ][ ]\n",
      "[ ][ ][ ][ ][ ][ ][ ][ ][ ][ ]\n",
      "[ ][ ][ ][ ][ ][ ][ ][ ][ ][ ]\n",
      "[ ][ ][ ][ ][ ][ ][ ][ ][ ][ ]\n",
      "[ ][ ][ ][ ][ ][ ][ ][ ][ ][ ]\n",
      "[ ][ ][ ][ ][ ][ ][ ][ ][ ][ ]\n",
      "[ ][ ][ ][ ][ ][ ][ ][ ][ ][ ]\n",
      "[ ][ ][ ][ ][ ][ ][ ][ ][ ][ ]\n",
      "[ ][ ][ ][ ][ ][ ][ ][ ][ ][ ]\n"
     ]
    }
   ],
   "source": [
    "printGrid(grid)"
   ]
  },
  {
   "cell_type": "code",
   "execution_count": 40,
   "metadata": {
    "collapsed": false
   },
   "outputs": [
    {
     "name": "stdout",
     "output_type": "stream",
     "text": [
      "[X][X][ ][ ][ ][ ][ ][ ][ ][ ]\n",
      "[X][ ][ ][ ][ ][ ][ ][ ][ ][ ]\n",
      "[ ][ ][ ][ ][ ][ ][ ][ ][ ][ ]\n",
      "[ ][ ][ ][ ][ ][ ][ ][ ][ ][ ]\n",
      "[ ][ ][ ][ ][ ][ ][ ][ ][ ][ ]\n",
      "[ ][ ][ ][ ][ ][ ][ ][ ][ ][ ]\n",
      "[ ][ ][ ][ ][ ][ ][ ][ ][ ][ ]\n",
      "[ ][ ][ ][ ][ ][ ][ ][ ][ ][ ]\n",
      "[ ][ ][ ][ ][ ][ ][ ][ ][ ][ ]\n",
      "[ ][ ][ ][ ][ ][ ][ ][ ][ ][ ]\n"
     ]
    }
   ],
   "source": [
    "grid[0][0] = 1\n",
    "grid[0][1] = 1\n",
    "grid[1][0] = 1\n",
    "printGrid(grid)"
   ]
  },
  {
   "cell_type": "code",
   "execution_count": 41,
   "metadata": {
    "collapsed": false
   },
   "outputs": [
    {
     "name": "stdout",
     "output_type": "stream",
     "text": [
      "newDeadCells: (0, 1)\n"
     ]
    },
    {
     "ename": "IndexError",
     "evalue": "list index out of range",
     "output_type": "error",
     "traceback": [
      "\u001b[0;31m---------------------------------------------------------------------------\u001b[0m",
      "\u001b[0;31mIndexError\u001b[0m                                Traceback (most recent call last)",
      "\u001b[0;32m<ipython-input-41-c4a6da55bff5>\u001b[0m in \u001b[0;36m<module>\u001b[0;34m()\u001b[0m\n\u001b[0;32m----> 1\u001b[0;31m \u001b[0mnextTick\u001b[0m\u001b[1;33m(\u001b[0m\u001b[0mgrid\u001b[0m\u001b[1;33m)\u001b[0m\u001b[1;33m\u001b[0m\u001b[0m\n\u001b[0m\u001b[1;32m      2\u001b[0m \u001b[0mprintGrid\u001b[0m\u001b[1;33m(\u001b[0m\u001b[0mgrid\u001b[0m\u001b[1;33m)\u001b[0m\u001b[1;33m\u001b[0m\u001b[0m\n",
      "\u001b[0;32m<ipython-input-39-5cfb52913bd5>\u001b[0m in \u001b[0;36mnextTick\u001b[0;34m(grid)\u001b[0m\n\u001b[1;32m     48\u001b[0m             \u001b[1;32melse\u001b[0m\u001b[1;33m:\u001b[0m\u001b[1;33m\u001b[0m\u001b[0m\n\u001b[1;32m     49\u001b[0m                 \u001b[1;31m# any dead cell with exactly three live neighbors becomes a live cell\u001b[0m\u001b[1;33m\u001b[0m\u001b[1;33m\u001b[0m\u001b[0m\n\u001b[0;32m---> 50\u001b[0;31m                 \u001b[0mn\u001b[0m \u001b[1;33m=\u001b[0m \u001b[0mliveNeighbors\u001b[0m\u001b[1;33m(\u001b[0m\u001b[0mgrid\u001b[0m\u001b[1;33m,\u001b[0m \u001b[1;33m(\u001b[0m\u001b[0mi\u001b[0m\u001b[1;33m,\u001b[0m\u001b[0mj\u001b[0m\u001b[1;33m)\u001b[0m\u001b[1;33m)\u001b[0m\u001b[1;33m\u001b[0m\u001b[0m\n\u001b[0m\u001b[1;32m     51\u001b[0m                 \u001b[1;32mif\u001b[0m \u001b[1;33m(\u001b[0m\u001b[0mn\u001b[0m \u001b[1;33m==\u001b[0m \u001b[1;36m3\u001b[0m\u001b[1;33m)\u001b[0m\u001b[1;33m:\u001b[0m\u001b[1;33m\u001b[0m\u001b[0m\n\u001b[1;32m     52\u001b[0m                     \u001b[0mnewLiveCells\u001b[0m\u001b[1;33m.\u001b[0m\u001b[0mappend\u001b[0m\u001b[1;33m(\u001b[0m\u001b[1;33m(\u001b[0m\u001b[0mi\u001b[0m\u001b[1;33m,\u001b[0m\u001b[0mj\u001b[0m\u001b[1;33m)\u001b[0m\u001b[1;33m)\u001b[0m\u001b[1;33m\u001b[0m\u001b[0m\n",
      "\u001b[0;32m<ipython-input-39-5cfb52913bd5>\u001b[0m in \u001b[0;36mliveNeighbors\u001b[0;34m(grid, cell)\u001b[0m\n\u001b[1;32m     17\u001b[0m         \u001b[1;32mif\u001b[0m \u001b[1;33m(\u001b[0m\u001b[0mgrid\u001b[0m\u001b[1;33m[\u001b[0m\u001b[0mcell\u001b[0m\u001b[1;33m[\u001b[0m\u001b[1;36m0\u001b[0m\u001b[1;33m]\u001b[0m \u001b[1;33m-\u001b[0m \u001b[1;36m1\u001b[0m\u001b[1;33m]\u001b[0m\u001b[1;33m[\u001b[0m\u001b[0mcell\u001b[0m\u001b[1;33m[\u001b[0m\u001b[1;36m1\u001b[0m\u001b[1;33m]\u001b[0m\u001b[1;33m]\u001b[0m \u001b[1;33m==\u001b[0m \u001b[1;36m1\u001b[0m\u001b[1;33m)\u001b[0m\u001b[1;33m:\u001b[0m\u001b[1;33m\u001b[0m\u001b[0m\n\u001b[1;32m     18\u001b[0m             \u001b[0mn\u001b[0m \u001b[1;33m+=\u001b[0m \u001b[1;36m1\u001b[0m\u001b[1;33m\u001b[0m\u001b[0m\n\u001b[0;32m---> 19\u001b[0;31m         \u001b[1;32mif\u001b[0m \u001b[1;33m(\u001b[0m\u001b[0mgrid\u001b[0m\u001b[1;33m[\u001b[0m\u001b[0mcell\u001b[0m\u001b[1;33m[\u001b[0m\u001b[1;36m0\u001b[0m\u001b[1;33m]\u001b[0m \u001b[1;33m-\u001b[0m \u001b[1;36m1\u001b[0m\u001b[1;33m]\u001b[0m\u001b[1;33m[\u001b[0m\u001b[0mcell\u001b[0m\u001b[1;33m[\u001b[0m\u001b[1;36m1\u001b[0m\u001b[1;33m]\u001b[0m \u001b[1;33m+\u001b[0m \u001b[1;36m1\u001b[0m\u001b[1;33m]\u001b[0m \u001b[1;33m==\u001b[0m \u001b[1;36m1\u001b[0m \u001b[1;32mand\u001b[0m \u001b[0mcell\u001b[0m\u001b[1;33m[\u001b[0m\u001b[1;36m1\u001b[0m\u001b[1;33m]\u001b[0m \u001b[1;33m+\u001b[0m \u001b[1;36m1\u001b[0m \u001b[1;33m<\u001b[0m \u001b[0mlen\u001b[0m\u001b[1;33m(\u001b[0m\u001b[0mgrid\u001b[0m\u001b[1;33m[\u001b[0m\u001b[1;36m0\u001b[0m\u001b[1;33m]\u001b[0m\u001b[1;33m)\u001b[0m\u001b[1;33m)\u001b[0m\u001b[1;33m:\u001b[0m\u001b[1;33m\u001b[0m\u001b[0m\n\u001b[0m\u001b[1;32m     20\u001b[0m             \u001b[0mn\u001b[0m \u001b[1;33m+=\u001b[0m \u001b[1;36m1\u001b[0m\u001b[1;33m\u001b[0m\u001b[0m\n\u001b[1;32m     21\u001b[0m     \u001b[1;32mif\u001b[0m \u001b[1;33m(\u001b[0m\u001b[0mcell\u001b[0m\u001b[1;33m[\u001b[0m\u001b[1;36m1\u001b[0m\u001b[1;33m]\u001b[0m \u001b[1;33m-\u001b[0m \u001b[1;36m1\u001b[0m \u001b[1;33m>\u001b[0m \u001b[1;36m0\u001b[0m \u001b[1;32mand\u001b[0m \u001b[0mgrid\u001b[0m\u001b[1;33m[\u001b[0m\u001b[0mcell\u001b[0m\u001b[1;33m[\u001b[0m\u001b[1;36m0\u001b[0m\u001b[1;33m]\u001b[0m\u001b[1;33m]\u001b[0m\u001b[1;33m[\u001b[0m\u001b[0mcell\u001b[0m\u001b[1;33m[\u001b[0m\u001b[1;36m1\u001b[0m\u001b[1;33m]\u001b[0m \u001b[1;33m-\u001b[0m \u001b[1;36m1\u001b[0m\u001b[1;33m]\u001b[0m \u001b[1;33m==\u001b[0m \u001b[1;36m1\u001b[0m\u001b[1;33m)\u001b[0m\u001b[1;33m:\u001b[0m\u001b[1;33m\u001b[0m\u001b[0m\n",
      "\u001b[0;31mIndexError\u001b[0m: list index out of range"
     ]
    }
   ],
   "source": [
    "nextTick(grid)\n",
    "printGrid(grid)"
   ]
  },
  {
   "cell_type": "code",
   "execution_count": null,
   "metadata": {
    "collapsed": true
   },
   "outputs": [],
   "source": []
  }
 ],
 "metadata": {
  "kernelspec": {
   "display_name": "Python 2",
   "language": "python",
   "name": "python2"
  },
  "language_info": {
   "codemirror_mode": {
    "name": "ipython",
    "version": 2
   },
   "file_extension": ".py",
   "mimetype": "text/x-python",
   "name": "python",
   "nbconvert_exporter": "python",
   "pygments_lexer": "ipython2",
   "version": "2.7.13"
  }
 },
 "nbformat": 4,
 "nbformat_minor": 2
}
