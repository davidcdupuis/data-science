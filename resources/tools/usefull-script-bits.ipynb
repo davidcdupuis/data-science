{
 "cells": [
  {
   "cell_type": "markdown",
   "metadata": {},
   "source": [
    "# Useful Python Script Bits\n",
    "\n",
    "In this notebook one will find some usefull Python functions to be re-used throughout projects."
   ]
  },
  {
   "cell_type": "code",
   "execution_count": 1,
   "metadata": {
    "code_folding": [
     3
    ]
   },
   "outputs": [],
   "source": [
    "import colorama\n",
    "from colorama import Fore\n",
    "\n",
    "def color_text(txt, color) -> str:\n",
    "    \"\"\"Change str txt to color for terminal output\n",
    "    Args:\n",
    "        txt: text to change print color\n",
    "        color: str color we want: ['green','cyan','magenta','red','blue']\n",
    "    Return:\n",
    "        txt: output text with ansi color\n",
    "    \"\"\"\n",
    "    colorama.init()\n",
    "    txt = str(txt)\n",
    "    if color == \"green\":\n",
    "        txt = Fore.GREEN + txt\n",
    "    elif color == \"red\":\n",
    "        txt = Fore.RED + txt\n",
    "    elif color == \"yellow\":\n",
    "        txt = Fore.YELLOW + txt\n",
    "    elif color == \"magenta\":\n",
    "        txt = Fore.MAGENTA + txt\n",
    "    elif color == \"blue\":\n",
    "        txt = Fore.BLUE + txt\n",
    "    txt += Fore.RESET\n",
    "    return txt"
   ]
  },
  {
   "cell_type": "code",
   "execution_count": 9,
   "metadata": {
    "code_folding": []
   },
   "outputs": [],
   "source": [
    "def dict_to_beautifulTable(dic, cols=[]):\n",
    "    '''Converts a dict to beautifulTable\n",
    "    '''\n",
    "    from beautifultable import BeautifulTable \n",
    "    table = BeautifulTable()\n",
    "    table.set_style(BeautifulTable.STYLE_BOX)\n",
    "    if cols:\n",
    "        table.column_headers = cols\n",
    "    for key, val in dic.items():\n",
    "        if isinstance(val, dict):\n",
    "            table.append_row([key, dict_to_beautifulTable(val)])\n",
    "        else:\n",
    "            table.append_row([key, color_text(val, \"yellow\")])\n",
    "    return table"
   ]
  },
  {
   "cell_type": "markdown",
   "metadata": {},
   "source": [
    "## Summarizing any dataframe\n",
    "\n",
    "We want:\n",
    "- dimensions\n",
    "- column types\n",
    "- unique values of objects if not too many\n",
    "- unique values of objects if not too many\n",
    "- if numbers get min, max, mean, std (more ?)\n",
    "- if date min and max"
   ]
  },
  {
   "cell_type": "code",
   "execution_count": 7,
   "metadata": {
    "code_folding": []
   },
   "outputs": [],
   "source": [
    "# necessary libraries\n",
    "import numpy as np\n",
    "import pandas as pd\n",
    "\n",
    "def summarize_df(df, mode='dict', title=''):\n",
    "    '''Function to summarize any dataframe (awesome)\n",
    "    Args:\n",
    "        df: dataframe we want to summarize\n",
    "        mode: whether we want to print a dict, BeautifulTable or HTML table\n",
    "        title: print title in summary if specified\n",
    "    Return:\n",
    "        summary: a dict with the summary of df\n",
    "    '''\n",
    "    if mode not in ['dict','table','html']:\n",
    "        print(\"Error mode not recognized: {}\".format(mode))\n",
    "        return None\n",
    "    \n",
    "    summary = {}\n",
    "    \n",
    "    summary['shape'] = {'rows':df.shape[0],\n",
    "                        'columns':df.shape[0]}\n",
    "    #summary['columns'] = {}\n",
    "    for col in df.columns:\n",
    "        summary[col] = {'dtype':df[col].dtype}\n",
    "        if df[col].dtype == np.object:\n",
    "            uniques = df[col].unique()\n",
    "            uniques_str = (', '.join(uniques[:11]), ', '.join(uniques[:8]) + ', ...')[len(uniques) > 11] \n",
    "            summary[col]['values'] = uniques_str\n",
    "        elif df[col].dtype == np.int64 or df[col].dtype == np.float64:\n",
    "            uniques = df[col].unique()\n",
    "            uniques_str = (', '.join([str(x) for x in uniques[:11]]), ', '.join([str(x) for x in uniques[:8]]) + ', ...')[len(uniques) > 11]  \n",
    "            summary[col]['values'] = uniques_str\n",
    "            summary[col]['min'] = min(df[col])\n",
    "            summary[col]['max'] = max(df[col])\n",
    "            summary[col]['mean'] = round(df[col].mean(),4)\n",
    "        elif np.issubdtype(df[col].dtype, np.datetime64):\n",
    "            summary[col] = '{} -> {}'.format(min(df[col]),max(df[col]))\n",
    "    \n",
    "    if mode == 'dict':\n",
    "        print(dict)\n",
    "    elif mode == 'table':\n",
    "        # make beautiful table and print \n",
    "        print(dict_to_beautifulTable(summary))\n",
    "    elif mode == 'html':\n",
    "        # make html table and print \n",
    "        pass\n",
    "\n",
    "    return summary\n",
    "    "
   ]
  },
  {
   "cell_type": "code",
   "execution_count": 19,
   "metadata": {},
   "outputs": [
    {
     "name": "stdout",
     "output_type": "stream",
     "text": [
      "Importing file from:  ../data/nba.csv\n"
     ]
    }
   ],
   "source": [
    "import os\n",
    "nba_file = '../data/nba.csv'\n",
    "if os.path.exists(nba_file):\n",
    "    print(\"Importing file from: \", nba_file)\n",
    "    test_df = pd.read_csv(nba_file)\n",
    "else:\n",
    "    print(\"File {} not found\".format(nba_file))"
   ]
  },
  {
   "cell_type": "code",
   "execution_count": 22,
   "metadata": {},
   "outputs": [
    {
     "data": {
      "text/plain": [
       "Name         object\n",
       "Team         object\n",
       "Number      float64\n",
       "Position     object\n",
       "Age         float64\n",
       "Height       object\n",
       "Weight      float64\n",
       "College      object\n",
       "Salary      float64\n",
       "dtype: object"
      ]
     },
     "execution_count": 22,
     "metadata": {},
     "output_type": "execute_result"
    }
   ],
   "source": [
    "test_df.dtypes"
   ]
  },
  {
   "cell_type": "code",
   "execution_count": 20,
   "metadata": {},
   "outputs": [
    {
     "name": "stdout",
     "output_type": "stream",
     "text": [
      "Name\n"
     ]
    },
    {
     "ename": "KeyError",
     "evalue": "'Name'",
     "output_type": "error",
     "traceback": [
      "\u001b[1;31m---------------------------------------------------------------------------\u001b[0m",
      "\u001b[1;31mKeyError\u001b[0m                                  Traceback (most recent call last)",
      "\u001b[1;32m~\\AppData\\Local\\Continuum\\anaconda3\\lib\\site-packages\\pandas\\core\\indexes\\base.py\u001b[0m in \u001b[0;36mget_loc\u001b[1;34m(self, key, method, tolerance)\u001b[0m\n\u001b[0;32m   2656\u001b[0m             \u001b[1;32mtry\u001b[0m\u001b[1;33m:\u001b[0m\u001b[1;33m\u001b[0m\u001b[1;33m\u001b[0m\u001b[0m\n\u001b[1;32m-> 2657\u001b[1;33m                 \u001b[1;32mreturn\u001b[0m \u001b[0mself\u001b[0m\u001b[1;33m.\u001b[0m\u001b[0m_engine\u001b[0m\u001b[1;33m.\u001b[0m\u001b[0mget_loc\u001b[0m\u001b[1;33m(\u001b[0m\u001b[0mkey\u001b[0m\u001b[1;33m)\u001b[0m\u001b[1;33m\u001b[0m\u001b[1;33m\u001b[0m\u001b[0m\n\u001b[0m\u001b[0;32m   2658\u001b[0m             \u001b[1;32mexcept\u001b[0m \u001b[0mKeyError\u001b[0m\u001b[1;33m:\u001b[0m\u001b[1;33m\u001b[0m\u001b[1;33m\u001b[0m\u001b[0m\n",
      "\u001b[1;32mpandas/_libs/index.pyx\u001b[0m in \u001b[0;36mpandas._libs.index.IndexEngine.get_loc\u001b[1;34m()\u001b[0m\n",
      "\u001b[1;32mpandas/_libs/index.pyx\u001b[0m in \u001b[0;36mpandas._libs.index.IndexEngine.get_loc\u001b[1;34m()\u001b[0m\n",
      "\u001b[1;32mpandas/_libs/hashtable_class_helper.pxi\u001b[0m in \u001b[0;36mpandas._libs.hashtable.PyObjectHashTable.get_item\u001b[1;34m()\u001b[0m\n",
      "\u001b[1;32mpandas/_libs/hashtable_class_helper.pxi\u001b[0m in \u001b[0;36mpandas._libs.hashtable.PyObjectHashTable.get_item\u001b[1;34m()\u001b[0m\n",
      "\u001b[1;31mKeyError\u001b[0m: 'Name'",
      "\nDuring handling of the above exception, another exception occurred:\n",
      "\u001b[1;31mKeyError\u001b[0m                                  Traceback (most recent call last)",
      "\u001b[1;32m<ipython-input-20-20e9110f1c12>\u001b[0m in \u001b[0;36m<module>\u001b[1;34m\u001b[0m\n\u001b[0;32m      2\u001b[0m \u001b[1;32mfor\u001b[0m \u001b[0mcol\u001b[0m \u001b[1;32min\u001b[0m \u001b[0mtest_df\u001b[0m\u001b[1;33m.\u001b[0m\u001b[0mcolumns\u001b[0m\u001b[1;33m:\u001b[0m\u001b[1;33m\u001b[0m\u001b[1;33m\u001b[0m\u001b[0m\n\u001b[0;32m      3\u001b[0m     \u001b[0mprint\u001b[0m\u001b[1;33m(\u001b[0m\u001b[0mcol\u001b[0m\u001b[1;33m)\u001b[0m\u001b[1;33m\u001b[0m\u001b[1;33m\u001b[0m\u001b[0m\n\u001b[1;32m----> 4\u001b[1;33m     \u001b[1;32mfor\u001b[0m \u001b[0mitem\u001b[0m \u001b[1;32min\u001b[0m \u001b[0mdesc\u001b[0m\u001b[1;33m[\u001b[0m\u001b[0mcol\u001b[0m\u001b[1;33m]\u001b[0m\u001b[1;33m.\u001b[0m\u001b[0miteritems\u001b[0m\u001b[1;33m(\u001b[0m\u001b[1;33m)\u001b[0m\u001b[1;33m:\u001b[0m\u001b[1;33m\u001b[0m\u001b[1;33m\u001b[0m\u001b[0m\n\u001b[0m\u001b[0;32m      5\u001b[0m         \u001b[0mprint\u001b[0m\u001b[1;33m(\u001b[0m\u001b[1;34m\"\\t{} : {}\"\u001b[0m\u001b[1;33m.\u001b[0m\u001b[0mformat\u001b[0m\u001b[1;33m(\u001b[0m\u001b[0mitem\u001b[0m\u001b[1;33m[\u001b[0m\u001b[1;36m0\u001b[0m\u001b[1;33m]\u001b[0m\u001b[1;33m,\u001b[0m \u001b[0mround\u001b[0m\u001b[1;33m(\u001b[0m\u001b[0mitem\u001b[0m\u001b[1;33m[\u001b[0m\u001b[1;36m1\u001b[0m\u001b[1;33m]\u001b[0m\u001b[1;33m,\u001b[0m\u001b[1;36m4\u001b[0m\u001b[1;33m)\u001b[0m\u001b[1;33m)\u001b[0m\u001b[1;33m)\u001b[0m\u001b[1;33m\u001b[0m\u001b[1;33m\u001b[0m\u001b[0m\n",
      "\u001b[1;32m~\\AppData\\Local\\Continuum\\anaconda3\\lib\\site-packages\\pandas\\core\\frame.py\u001b[0m in \u001b[0;36m__getitem__\u001b[1;34m(self, key)\u001b[0m\n\u001b[0;32m   2925\u001b[0m             \u001b[1;32mif\u001b[0m \u001b[0mself\u001b[0m\u001b[1;33m.\u001b[0m\u001b[0mcolumns\u001b[0m\u001b[1;33m.\u001b[0m\u001b[0mnlevels\u001b[0m \u001b[1;33m>\u001b[0m \u001b[1;36m1\u001b[0m\u001b[1;33m:\u001b[0m\u001b[1;33m\u001b[0m\u001b[1;33m\u001b[0m\u001b[0m\n\u001b[0;32m   2926\u001b[0m                 \u001b[1;32mreturn\u001b[0m \u001b[0mself\u001b[0m\u001b[1;33m.\u001b[0m\u001b[0m_getitem_multilevel\u001b[0m\u001b[1;33m(\u001b[0m\u001b[0mkey\u001b[0m\u001b[1;33m)\u001b[0m\u001b[1;33m\u001b[0m\u001b[1;33m\u001b[0m\u001b[0m\n\u001b[1;32m-> 2927\u001b[1;33m             \u001b[0mindexer\u001b[0m \u001b[1;33m=\u001b[0m \u001b[0mself\u001b[0m\u001b[1;33m.\u001b[0m\u001b[0mcolumns\u001b[0m\u001b[1;33m.\u001b[0m\u001b[0mget_loc\u001b[0m\u001b[1;33m(\u001b[0m\u001b[0mkey\u001b[0m\u001b[1;33m)\u001b[0m\u001b[1;33m\u001b[0m\u001b[1;33m\u001b[0m\u001b[0m\n\u001b[0m\u001b[0;32m   2928\u001b[0m             \u001b[1;32mif\u001b[0m \u001b[0mis_integer\u001b[0m\u001b[1;33m(\u001b[0m\u001b[0mindexer\u001b[0m\u001b[1;33m)\u001b[0m\u001b[1;33m:\u001b[0m\u001b[1;33m\u001b[0m\u001b[1;33m\u001b[0m\u001b[0m\n\u001b[0;32m   2929\u001b[0m                 \u001b[0mindexer\u001b[0m \u001b[1;33m=\u001b[0m \u001b[1;33m[\u001b[0m\u001b[0mindexer\u001b[0m\u001b[1;33m]\u001b[0m\u001b[1;33m\u001b[0m\u001b[1;33m\u001b[0m\u001b[0m\n",
      "\u001b[1;32m~\\AppData\\Local\\Continuum\\anaconda3\\lib\\site-packages\\pandas\\core\\indexes\\base.py\u001b[0m in \u001b[0;36mget_loc\u001b[1;34m(self, key, method, tolerance)\u001b[0m\n\u001b[0;32m   2657\u001b[0m                 \u001b[1;32mreturn\u001b[0m \u001b[0mself\u001b[0m\u001b[1;33m.\u001b[0m\u001b[0m_engine\u001b[0m\u001b[1;33m.\u001b[0m\u001b[0mget_loc\u001b[0m\u001b[1;33m(\u001b[0m\u001b[0mkey\u001b[0m\u001b[1;33m)\u001b[0m\u001b[1;33m\u001b[0m\u001b[1;33m\u001b[0m\u001b[0m\n\u001b[0;32m   2658\u001b[0m             \u001b[1;32mexcept\u001b[0m \u001b[0mKeyError\u001b[0m\u001b[1;33m:\u001b[0m\u001b[1;33m\u001b[0m\u001b[1;33m\u001b[0m\u001b[0m\n\u001b[1;32m-> 2659\u001b[1;33m                 \u001b[1;32mreturn\u001b[0m \u001b[0mself\u001b[0m\u001b[1;33m.\u001b[0m\u001b[0m_engine\u001b[0m\u001b[1;33m.\u001b[0m\u001b[0mget_loc\u001b[0m\u001b[1;33m(\u001b[0m\u001b[0mself\u001b[0m\u001b[1;33m.\u001b[0m\u001b[0m_maybe_cast_indexer\u001b[0m\u001b[1;33m(\u001b[0m\u001b[0mkey\u001b[0m\u001b[1;33m)\u001b[0m\u001b[1;33m)\u001b[0m\u001b[1;33m\u001b[0m\u001b[1;33m\u001b[0m\u001b[0m\n\u001b[0m\u001b[0;32m   2660\u001b[0m         \u001b[0mindexer\u001b[0m \u001b[1;33m=\u001b[0m \u001b[0mself\u001b[0m\u001b[1;33m.\u001b[0m\u001b[0mget_indexer\u001b[0m\u001b[1;33m(\u001b[0m\u001b[1;33m[\u001b[0m\u001b[0mkey\u001b[0m\u001b[1;33m]\u001b[0m\u001b[1;33m,\u001b[0m \u001b[0mmethod\u001b[0m\u001b[1;33m=\u001b[0m\u001b[0mmethod\u001b[0m\u001b[1;33m,\u001b[0m \u001b[0mtolerance\u001b[0m\u001b[1;33m=\u001b[0m\u001b[0mtolerance\u001b[0m\u001b[1;33m)\u001b[0m\u001b[1;33m\u001b[0m\u001b[1;33m\u001b[0m\u001b[0m\n\u001b[0;32m   2661\u001b[0m         \u001b[1;32mif\u001b[0m \u001b[0mindexer\u001b[0m\u001b[1;33m.\u001b[0m\u001b[0mndim\u001b[0m \u001b[1;33m>\u001b[0m \u001b[1;36m1\u001b[0m \u001b[1;32mor\u001b[0m \u001b[0mindexer\u001b[0m\u001b[1;33m.\u001b[0m\u001b[0msize\u001b[0m \u001b[1;33m>\u001b[0m \u001b[1;36m1\u001b[0m\u001b[1;33m:\u001b[0m\u001b[1;33m\u001b[0m\u001b[1;33m\u001b[0m\u001b[0m\n",
      "\u001b[1;32mpandas/_libs/index.pyx\u001b[0m in \u001b[0;36mpandas._libs.index.IndexEngine.get_loc\u001b[1;34m()\u001b[0m\n",
      "\u001b[1;32mpandas/_libs/index.pyx\u001b[0m in \u001b[0;36mpandas._libs.index.IndexEngine.get_loc\u001b[1;34m()\u001b[0m\n",
      "\u001b[1;32mpandas/_libs/hashtable_class_helper.pxi\u001b[0m in \u001b[0;36mpandas._libs.hashtable.PyObjectHashTable.get_item\u001b[1;34m()\u001b[0m\n",
      "\u001b[1;32mpandas/_libs/hashtable_class_helper.pxi\u001b[0m in \u001b[0;36mpandas._libs.hashtable.PyObjectHashTable.get_item\u001b[1;34m()\u001b[0m\n",
      "\u001b[1;31mKeyError\u001b[0m: 'Name'"
     ]
    }
   ],
   "source": [
    "desc = test_df.describe()\n",
    "for col in test_df.columns:\n",
    "    print(col)\n",
    "    for item in desc[col].iteritems():\n",
    "        print(\"\\t{} : {}\".format(item[0], round(item[1],4)))"
   ]
  },
  {
   "cell_type": "code",
   "execution_count": 10,
   "metadata": {},
   "outputs": [
    {
     "name": "stdout",
     "output_type": "stream",
     "text": [
      "┌───────────────────┬──────────────────────────────────────────────────────────┐\n",
      "│       shape       │                    ┌─────────┬─────┐                     │\n",
      "│                   │                    │  rows   │ 150 │                     │\n",
      "│                   │                    ├─────────┼─────┤                     │\n",
      "│                   │                    │ columns │ 150 │                     │\n",
      "│                   │                    └─────────┴─────┘                     │\n",
      "├───────────────────┼──────────────────────────────────────────────────────────┤\n",
      "│ sepal length (cm) │ ┌────────┬─────────────────────────────────────────────┐ │\n",
      "│                   │ │ dtype  │                   float64                   │ │\n",
      "│                   │ ├────────┼─────────────────────────────────────────────┤ │\n",
      "│                   │ │ values │ 5.1, 4.9, 4.7, 4.6, 5.0, 5.4, 4.4, 4.8, ... │ │\n",
      "│                   │ ├────────┼─────────────────────────────────────────────┤ │\n",
      "│                   │ │  min   │                     4.3                     │ │\n",
      "│                   │ ├────────┼─────────────────────────────────────────────┤ │\n",
      "│                   │ │  max   │                     7.9                     │ │\n",
      "│                   │ ├────────┼─────────────────────────────────────────────┤ │\n",
      "│                   │ │  mean  │                   5.8433                    │ │\n",
      "│                   │ └────────┴─────────────────────────────────────────────┘ │\n",
      "├───────────────────┼──────────────────────────────────────────────────────────┤\n",
      "│ sepal width (cm)  │ ┌────────┬─────────────────────────────────────────────┐ │\n",
      "│                   │ │ dtype  │                   float64                   │ │\n",
      "│                   │ ├────────┼─────────────────────────────────────────────┤ │\n",
      "│                   │ │ values │ 3.5, 3.0, 3.2, 3.1, 3.6, 3.9, 3.4, 2.9, ... │ │\n",
      "│                   │ ├────────┼─────────────────────────────────────────────┤ │\n",
      "│                   │ │  min   │                     2.0                     │ │\n",
      "│                   │ ├────────┼─────────────────────────────────────────────┤ │\n",
      "│                   │ │  max   │                     4.4                     │ │\n",
      "│                   │ ├────────┼─────────────────────────────────────────────┤ │\n",
      "│                   │ │  mean  │                   3.0573                    │ │\n",
      "│                   │ └────────┴─────────────────────────────────────────────┘ │\n",
      "├───────────────────┼──────────────────────────────────────────────────────────┤\n",
      "│ petal length (cm) │ ┌────────┬─────────────────────────────────────────────┐ │\n",
      "│                   │ │ dtype  │                   float64                   │ │\n",
      "│                   │ ├────────┼─────────────────────────────────────────────┤ │\n",
      "│                   │ │ values │ 1.4, 1.3, 1.5, 1.7, 1.6, 1.1, 1.2, 1.0, ... │ │\n",
      "│                   │ ├────────┼─────────────────────────────────────────────┤ │\n",
      "│                   │ │  min   │                     1.0                     │ │\n",
      "│                   │ ├────────┼─────────────────────────────────────────────┤ │\n",
      "│                   │ │  max   │                     6.9                     │ │\n",
      "│                   │ ├────────┼─────────────────────────────────────────────┤ │\n",
      "│                   │ │  mean  │                    3.758                    │ │\n",
      "│                   │ └────────┴─────────────────────────────────────────────┘ │\n",
      "├───────────────────┼──────────────────────────────────────────────────────────┤\n",
      "│ petal width (cm)  │ ┌────────┬─────────────────────────────────────────────┐ │\n",
      "│                   │ │ dtype  │                   float64                   │ │\n",
      "│                   │ ├────────┼─────────────────────────────────────────────┤ │\n",
      "│                   │ │ values │ 0.2, 0.4, 0.3, 0.1, 0.5, 0.6, 1.4, 1.5, ... │ │\n",
      "│                   │ ├────────┼─────────────────────────────────────────────┤ │\n",
      "│                   │ │  min   │                     0.1                     │ │\n",
      "│                   │ ├────────┼─────────────────────────────────────────────┤ │\n",
      "│                   │ │  max   │                     2.5                     │ │\n",
      "│                   │ ├────────┼─────────────────────────────────────────────┤ │\n",
      "│                   │ │  mean  │                   1.1993                    │ │\n",
      "│                   │ └────────┴─────────────────────────────────────────────┘ │\n",
      "├───────────────────┼──────────────────────────────────────────────────────────┤\n",
      "│      target       │                ┌────────┬───────────────┐                │\n",
      "│                   │                │ dtype  │    float64    │                │\n",
      "│                   │                ├────────┼───────────────┤                │\n",
      "│                   │                │ values │ 0.0, 1.0, 2.0 │                │\n",
      "│                   │                ├────────┼───────────────┤                │\n",
      "│                   │                │  min   │      0.0      │                │\n",
      "│                   │                ├────────┼───────────────┤                │\n",
      "│                   │                │  max   │      2.0      │                │\n",
      "│                   │                ├────────┼───────────────┤                │\n",
      "│                   │                │  mean  │      1.0      │                │\n",
      "│                   │                └────────┴───────────────┘                │\n",
      "└───────────────────┴──────────────────────────────────────────────────────────┘\n"
     ]
    }
   ],
   "source": [
    "r = summarize_df(iris_df,mode='table')"
   ]
  },
  {
   "cell_type": "code",
   "execution_count": 77,
   "metadata": {},
   "outputs": [
    {
     "name": "stdout",
     "output_type": "stream",
     "text": [
      "a, b, c, d, e, f, g, h, ...\n"
     ]
    }
   ],
   "source": [
    "vals = ['a','b','c','d','e','f','g','h','i','j','k','l','m','n','o','p','q','r','s']\n",
    "if len(vals) > 11:\n",
    "    output = ', '.join(vals[:8]) + ', ...'\n",
    "else:\n",
    "    output = ', '.join(vals[:11])\n",
    "print(output)"
   ]
  },
  {
   "cell_type": "code",
   "execution_count": 89,
   "metadata": {},
   "outputs": [
    {
     "name": "stdout",
     "output_type": "stream",
     "text": [
      "5.1, 3.1, 2.5, 1.3, 3.5, 4.3, 2.3, 5.6, ...\n"
     ]
    }
   ],
   "source": [
    "vals = [5.1,3.1,2.5,1.3,3.5,4.3,2.3,5.6,7.6,8.7,8.9,9.3,4.5,6.4]\n",
    "output = (', '.join([str(x) for x in vals[:11]]), ', '.join([str(x) for x in vals[:8]]) + ', ...')[len(vals) > 11] \n",
    "print(output)"
   ]
  },
  {
   "cell_type": "markdown",
   "metadata": {},
   "source": [
    "## Display HTML in Jupyter"
   ]
  },
  {
   "cell_type": "code",
   "execution_count": 23,
   "metadata": {},
   "outputs": [
    {
     "data": {
      "text/html": [
       "<h1>Hello, world!</h1>"
      ],
      "text/plain": [
       "<IPython.core.display.HTML object>"
      ]
     },
     "metadata": {},
     "output_type": "display_data"
    }
   ],
   "source": [
    "from IPython.core.display import display, HTML\n",
    "display(HTML('<h1>Hello, world!</h1>'))"
   ]
  },
  {
   "cell_type": "code",
   "execution_count": 91,
   "metadata": {},
   "outputs": [],
   "source": [
    "html_table = '''\n",
    "<style>\n",
    "    table{\n",
    "        width: 100%;\n",
    "        border: 1px solid black;\n",
    "    }\n",
    "    th,td{\n",
    "        text-align: center;\n",
    "        color:black;\n",
    "    }\n",
    "</style>\n",
    "<table>\n",
    "    <tr><th colspan=\"2\">Summary</th></tr>\n",
    "    <tr>\n",
    "        <th colspan=\"2\">Shape</th>\n",
    "    </tr>\n",
    "    <tr>\n",
    "        <th> Rows </th>\n",
    "        <th> Columns </th>\n",
    "    </tr>\n",
    "    <tr> \n",
    "        <td> 12000 </td>\n",
    "        <td> 19 </td>\n",
    "    <tr>\n",
    "        <th>First Name</th>\n",
    "        <th>Last Name</th>\n",
    "    </tr>\n",
    "    <tr>\n",
    "        <td>John</td>\n",
    "        <td>Doe</td>\n",
    "    </tr>\n",
    "    <tr>\n",
    "        <td>Jane</td>\n",
    "        <td>Doe</td>\n",
    "    </tr>\n",
    "</table>\n",
    "'''"
   ]
  },
  {
   "cell_type": "code",
   "execution_count": 92,
   "metadata": {},
   "outputs": [
    {
     "data": {
      "text/html": [
       "\n",
       "<style>\n",
       "    table{\n",
       "        width: 100%;\n",
       "        border: 1px solid black;\n",
       "    }\n",
       "    table,th,td{\n",
       "        text-align: center;\n",
       "        color:black;\n",
       "    }\n",
       "</style>\n",
       "<table>\n",
       "    <tr><th colspan=\"2\">Summary</th></tr>\n",
       "    <tr>\n",
       "        <th colspan=\"2\">Shape</th>\n",
       "    </tr>\n",
       "    <tr>\n",
       "        <th> Rows </th>\n",
       "        <th> Columns </th>\n",
       "    </tr>\n",
       "    <tr> \n",
       "        <td> 12000 </td>\n",
       "        <td> 19 </td>\n",
       "    <tr>\n",
       "        <th>First Name</th>\n",
       "        <th>Last Name</th>\n",
       "    </tr>\n",
       "    <tr>\n",
       "        <td>John</td>\n",
       "        <td>Doe</td>\n",
       "    </tr>\n",
       "    <tr>\n",
       "        <td>Jane</td>\n",
       "        <td>Doe</td>\n",
       "    </tr>\n",
       "</table>\n"
      ],
      "text/plain": [
       "<IPython.core.display.HTML object>"
      ]
     },
     "metadata": {},
     "output_type": "display_data"
    }
   ],
   "source": [
    "display(HTML(html_table))"
   ]
  },
  {
   "cell_type": "code",
   "execution_count": null,
   "metadata": {},
   "outputs": [],
   "source": []
  }
 ],
 "metadata": {
  "kernelspec": {
   "display_name": "Python 3",
   "language": "python",
   "name": "python3"
  },
  "language_info": {
   "codemirror_mode": {
    "name": "ipython",
    "version": 3
   },
   "file_extension": ".py",
   "mimetype": "text/x-python",
   "name": "python",
   "nbconvert_exporter": "python",
   "pygments_lexer": "ipython3",
   "version": "3.7.3"
  },
  "toc": {
   "base_numbering": 1,
   "nav_menu": {},
   "number_sections": true,
   "sideBar": true,
   "skip_h1_title": false,
   "title_cell": "Table of Contents",
   "title_sidebar": "Contents",
   "toc_cell": false,
   "toc_position": {},
   "toc_section_display": true,
   "toc_window_display": true
  },
  "varInspector": {
   "cols": {
    "lenName": 16,
    "lenType": 16,
    "lenVar": 40
   },
   "kernels_config": {
    "python": {
     "delete_cmd_postfix": "",
     "delete_cmd_prefix": "del ",
     "library": "var_list.py",
     "varRefreshCmd": "print(var_dic_list())"
    },
    "r": {
     "delete_cmd_postfix": ") ",
     "delete_cmd_prefix": "rm(",
     "library": "var_list.r",
     "varRefreshCmd": "cat(var_dic_list()) "
    }
   },
   "types_to_exclude": [
    "module",
    "function",
    "builtin_function_or_method",
    "instance",
    "_Feature"
   ],
   "window_display": false
  }
 },
 "nbformat": 4,
 "nbformat_minor": 2
}
