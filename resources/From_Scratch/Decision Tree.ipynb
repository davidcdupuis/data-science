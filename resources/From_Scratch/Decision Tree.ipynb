{
 "cells": [
  {
   "cell_type": "markdown",
   "metadata": {},
   "source": [
    "# Decision Tree From Scratch\n",
    "\n",
    "https://towardsdatascience.com/decision-tree-from-scratch-in-python-46e99dfea775\n",
    "\n",
    "1. Create Tree\n",
    "2. Split \n",
    "3. Predict"
   ]
  },
  {
   "cell_type": "code",
   "execution_count": 1,
   "metadata": {},
   "outputs": [],
   "source": [
    "%matplotlib inline \n",
    "import pandas as pd\n",
    "import numpy as np"
   ]
  },
  {
   "cell_type": "code",
   "execution_count": 4,
   "metadata": {},
   "outputs": [
    {
     "ename": "SyntaxError",
     "evalue": "invalid syntax (<ipython-input-4-4d5accd1ba96>, line 13)",
     "output_type": "error",
     "traceback": [
      "\u001b[1;36m  File \u001b[1;32m\"<ipython-input-4-4d5accd1ba96>\"\u001b[1;36m, line \u001b[1;32m13\u001b[0m\n\u001b[1;33m    '''*%\u001b[0m\n\u001b[1;37m         \n^\u001b[0m\n\u001b[1;31mSyntaxError\u001b[0m\u001b[1;31m:\u001b[0m invalid syntax\n"
     ]
    }
   ],
   "source": [
    "class DecisionTreeClassifier:\n",
    "    def __init__(self, max_depth=None):\n",
    "        self.max_depth = max_depth\n",
    "    \n",
    "    def _best_split(self, X, y):\n",
    "        '''Finds the best split \n",
    "        Args:\n",
    "            X: ..\n",
    "            y: ..\n",
    "        Return:\n",
    "            best_idx: Index of the feature for best split, or None if no split is found\n",
    "            best_thr: Threshold to use for the split, or None if no split is found\n",
    "        '''*%\n",
    "        best_idx, best_thr = None, None\n",
    "        \n",
    "        # Need at least two elements to split a node\n",
    "        if y.size <= 1:\n",
    "            return best_idx, best_thr\n",
    "        \n",
    "        # Count of each class in the current node\n",
    "        num_parent = [np.sum(y == c) for c in range(self.n_classes_)]\n",
    "        \n",
    "        # Gini of current node\n",
    "        best_gini = 1.0 - sum((n/m)**2 for n in num_parent)\n",
    "        \n",
    "        # Loop through all features\n",
    "        for idx in range(self.n_features_):\n",
    "            # sort data along selected feature\n",
    "            threshold, classes = zip(*sorted(zip(X[:,ix], y)))\n",
    "            \n",
    "            # We could actually split the node according to each feature/threshold pair\n",
    "            # and count the resulting population for each class in the children, but \n",
    "            # instead we compute them in an iterative fashion, making this for loop\n",
    "            # linear rather than quadratic\n",
    "            num_left  = [0] * self.n_classes_\n",
    "            num_right = num_parent.copy() \n",
    "        \n",
    "    \n",
    "    def fit(self):\n",
    "        pass\n",
    "    \n",
    "    def _grow_tree(self):\n",
    "        pass\n",
    "    \n",
    "    def predict(self):\n",
    "        pass\n",
    "    \n",
    "    def _predict(self):\n",
    "        pass\n",
    "    \n",
    "    "
   ]
  },
  {
   "cell_type": "code",
   "execution_count": null,
   "metadata": {},
   "outputs": [],
   "source": [
    "class Node:\n",
    "    def __init__(self):\n",
    "        pass"
   ]
  }
 ],
 "metadata": {
  "kernelspec": {
   "display_name": "Python 3",
   "language": "python",
   "name": "python3"
  },
  "language_info": {
   "codemirror_mode": {
    "name": "ipython",
    "version": 3
   },
   "file_extension": ".py",
   "mimetype": "text/x-python",
   "name": "python",
   "nbconvert_exporter": "python",
   "pygments_lexer": "ipython3",
   "version": "3.7.3"
  }
 },
 "nbformat": 4,
 "nbformat_minor": 2
}
